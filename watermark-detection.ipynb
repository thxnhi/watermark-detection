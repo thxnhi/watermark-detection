{
 "cells": [
  {
   "cell_type": "code",
   "execution_count": 2,
   "id": "2ce48091",
   "metadata": {},
   "outputs": [],
   "source": [
    "from ultralytics import YOLO\n",
    "import os\n",
    "import json\n",
    "from PIL import Image, ImageEnhance, ImageFilter, ImageDraw\n",
    "\n",
    "model_path = 'watermarks.pt'\n",
    "INPUT_DIR = \"input_images\"\n",
    "OUTPUT_DIR = \"output_images\"\n",
    "\n",
    "model = YOLO(model_path)\n",
    "\n",
    "def image_enhancer(image_path, threshold=70):\n",
    "\timage = Image.open(image_path).convert(\"RGB\")\n",
    "\tgray_image = image.convert(\"L\")\n",
    "\tenhancer = ImageEnhance.Contrast(gray_image)\n",
    "\tcontrast_image = enhancer.enhance(0.85)\n",
    "\tsharpened_image = contrast_image.filter(ImageFilter.EDGE_ENHANCE_MORE)\n",
    "\tsharpened_image = sharpened_image.point(lambda x: x if x > threshold else 0)\n",
    "\treturn sharpened_image.convert(\"RGB\")\n",
    "\n",
    "def run_inference(image_paths: list):\n",
    "    try:\n",
    "        images = [image_enhancer(image_path) for image_path in image_paths]\n",
    "        results = [model.predict(image, conf=0.004, iou=0.) for image in images]\n",
    "        \n",
    "        saved_paths = [p.replace(INPUT_DIR, OUTPUT_DIR) for p in image_paths]\n",
    "        \n",
    "        watermark_status = []\n",
    "        for idx, result in enumerate(results):\n",
    "            result = result[0]\n",
    "\n",
    "            image = Image.open(image_paths[idx])\n",
    "            if len(result.boxes) > 0:\n",
    "                watermark_status.append(\n",
    "                    {\n",
    "                        \"image\": image_paths[idx],\n",
    "                        \"status\": True\n",
    "                    }\n",
    "                )\n",
    "                for box in result.boxes:\n",
    "                    coordinates = box.xyxy.tolist()\n",
    "                    draw = ImageDraw.Draw(image)\n",
    "                    draw.rectangle(coordinates[0], outline=\"red\", width=3)\n",
    "                image.save(saved_paths[idx])\n",
    "            else:\n",
    "                watermark_status.append(\n",
    "                    {\n",
    "                        \"image\": image_paths[idx],\n",
    "                        \"status\": False\n",
    "                    }\n",
    "                )\n",
    "                image.save(saved_paths[idx])\n",
    "\n",
    "        with open(\"result.json\", \"w\", encoding='utf-8') as f:\n",
    "            json.dump(watermark_status, f, indent=4)\n",
    "\n",
    "    except Exception as e:\n",
    "        print(e)\n"
   ]
  },
  {
   "cell_type": "code",
   "execution_count": 3,
   "id": "0e2641e8",
   "metadata": {},
   "outputs": [
    {
     "name": "stdout",
     "output_type": "stream",
     "text": [
      "\n",
      "0: 640x576 8 watermarks, 565.9ms\n",
      "Speed: 8.7ms preprocess, 565.9ms inference, 17.8ms postprocess per image at shape (1, 3, 640, 576)\n",
      "\n",
      "0: 448x640 6 watermarks, 161.2ms\n",
      "Speed: 2.7ms preprocess, 161.2ms inference, 1.2ms postprocess per image at shape (1, 3, 448, 640)\n"
     ]
    }
   ],
   "source": [
    "image_paths = [os.path.join(INPUT_DIR, p) for p in os.listdir(INPUT_DIR)]\n",
    "inference_result = run_inference(image_paths)"
   ]
  }
 ],
 "metadata": {
  "kernelspec": {
   "display_name": "Python 3",
   "language": "python",
   "name": "python3"
  },
  "language_info": {
   "codemirror_mode": {
    "name": "ipython",
    "version": 3
   },
   "file_extension": ".py",
   "mimetype": "text/x-python",
   "name": "python",
   "nbconvert_exporter": "python",
   "pygments_lexer": "ipython3",
   "version": "3.11.3"
  }
 },
 "nbformat": 4,
 "nbformat_minor": 5
}
