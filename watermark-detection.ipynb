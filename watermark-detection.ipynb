{
 "cells": [
  {
   "cell_type": "code",
   "execution_count": 1,
   "id": "2ce48091",
   "metadata": {},
   "outputs": [],
   "source": [
    "from ultralytics import YOLO\n",
    "import os\n",
    "import json\n",
    "\n",
    "model_path = 'watermarks.pt'\n",
    "INPUT_DIR = \"input_images\"\n",
    "OUTPUT_DIR = \"output_images\"\n",
    "\n",
    "model = YOLO(model_path)\n",
    "\n",
    "def run_inference(image_paths: list):\n",
    "    try:\n",
    "        results = model.predict(image_paths, conf=0.1, iou=0)\n",
    "        saved_paths = [p.replace(INPUT_DIR, OUTPUT_DIR) for p in image_paths]\n",
    "        \n",
    "        watermark_status = []\n",
    "        for idx, result in enumerate(results):\n",
    "            result.save(saved_paths[idx])\n",
    "            if len(result.boxes) > 0:\n",
    "                watermark_status.append(\n",
    "                    {\n",
    "                        \"image\": image_paths[idx],\n",
    "                        \"status\": True\n",
    "                    }\n",
    "                )\n",
    "            else:\n",
    "                watermark_status.append(\n",
    "                    {\n",
    "                        \"image\": image_paths[idx],\n",
    "                        \"status\": False\n",
    "                    }\n",
    "                )\n",
    "        with open(\"result.json\", \"w\", encoding='utf-8') as f:\n",
    "            json.dump(watermark_status, f, indent=4)\n",
    "\n",
    "    except Exception as e:\n",
    "        return e"
   ]
  },
  {
   "cell_type": "code",
   "execution_count": 2,
   "id": "0e2641e8",
   "metadata": {},
   "outputs": [
    {
     "name": "stdout",
     "output_type": "stream",
     "text": [
      "\n",
      "0: 448x640 7 watermarks, 431.5ms\n",
      "Speed: 20.3ms preprocess, 431.5ms inference, 24.9ms postprocess per image at shape (1, 3, 448, 640)\n"
     ]
    }
   ],
   "source": [
    "image_paths = [os.path.join(INPUT_DIR, p) for p in os.listdir(INPUT_DIR)]\n",
    "inference_result = run_inference(image_paths)"
   ]
  },
  {
   "cell_type": "code",
   "execution_count": null,
   "id": "cde1d64c",
   "metadata": {},
   "outputs": [],
   "source": []
  }
 ],
 "metadata": {
  "kernelspec": {
   "display_name": ".venv",
   "language": "python",
   "name": "python3"
  },
  "language_info": {
   "codemirror_mode": {
    "name": "ipython",
    "version": 3
   },
   "file_extension": ".py",
   "mimetype": "text/x-python",
   "name": "python",
   "nbconvert_exporter": "python",
   "pygments_lexer": "ipython3",
   "version": "3.11.3"
  }
 },
 "nbformat": 4,
 "nbformat_minor": 5
}
